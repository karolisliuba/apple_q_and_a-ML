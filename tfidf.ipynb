{
 "cells": [
  {
   "cell_type": "code",
   "execution_count": 1,
   "metadata": {},
   "outputs": [
    {
     "name": "stdout",
     "output_type": "stream",
     "text": [
      "Model retraining completed.\n"
     ]
    }
   ],
   "source": [
    "import pandas as pd\n",
    "from sklearn.feature_extraction.text import TfidfVectorizer\n",
    "from sklearn.neighbors import NearestNeighbors\n",
    "from sklearn.preprocessing import LabelEncoder\n",
    "import re\n",
    "from nltk.corpus import stopwords\n",
    "import joblib\n",
    "\n",
    "# Load the updated dataset\n",
    "df = pd.read_csv('QandA.csv')\n",
    "\n",
    "# Preprocess the text data\n",
    "def preprocess_text(text):\n",
    "    # Convert to lowercase\n",
    "    text = text.lower()\n",
    "    # Remove punctuation\n",
    "    text = re.sub(r'[^\\w\\s]', '', text)\n",
    "    return text\n",
    "\n",
    "# Apply preprocessing to 'Question' column\n",
    "df['Question'] = df['Question'].apply(preprocess_text)\n",
    "\n",
    "# Initialize LabelEncoder\n",
    "label_encoder = LabelEncoder()\n",
    "\n",
    "# Convert categorical variables to numerical format\n",
    "df['Question_encoded'] = label_encoder.fit_transform(df['Question'])\n",
    "df['Answer'] = label_encoder.fit_transform(df['Answer'])\n",
    "\n",
    "# Save the fitted LabelEncoder\n",
    "joblib.dump(label_encoder, 'label_encoder.joblib')\n",
    "\n",
    "# Initialize TF-IDF vectorizer with adjusted parameters\n",
    "tfidf_vectorizer = TfidfVectorizer(stop_words='english', max_df=0.9, min_df=2)\n",
    "tfidf_matrix = tfidf_vectorizer.fit_transform(df['Question'])\n",
    "\n",
    "# Save TF-IDF vectorizer\n",
    "joblib.dump(tfidf_vectorizer, 'tfidf_vectorizer.joblib')\n",
    "\n",
    "# Train kNN model with adjusted parameters\n",
    "knn_model = NearestNeighbors(n_neighbors=1, metric='cosine', algorithm='brute')\n",
    "knn_model.fit(tfidf_matrix)\n",
    "\n",
    "# Save kNN model\n",
    "joblib.dump(knn_model, 'knn_model.joblib')\n",
    "\n",
    "print(\"Model retraining completed.\")\n"
   ]
  }
 ],
 "metadata": {
  "kernelspec": {
   "display_name": "base",
   "language": "python",
   "name": "python3"
  },
  "language_info": {
   "codemirror_mode": {
    "name": "ipython",
    "version": 3
   },
   "file_extension": ".py",
   "mimetype": "text/x-python",
   "name": "python",
   "nbconvert_exporter": "python",
   "pygments_lexer": "ipython3",
   "version": "3.11.4"
  }
 },
 "nbformat": 4,
 "nbformat_minor": 2
}
